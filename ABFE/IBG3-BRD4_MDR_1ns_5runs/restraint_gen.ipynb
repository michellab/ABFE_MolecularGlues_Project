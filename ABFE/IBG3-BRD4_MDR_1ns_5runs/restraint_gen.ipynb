{
 "cells": [
  {
   "cell_type": "code",
   "execution_count": 1,
   "metadata": {},
   "outputs": [
    {
     "data": {
      "application/vnd.jupyter.widget-view+json": {
       "model_id": "67c88dec458647c3a8f1c597e233069c",
       "version_major": 2,
       "version_minor": 0
      },
      "text/plain": []
     },
     "metadata": {},
     "output_type": "display_data"
    },
    {
     "name": "stderr",
     "output_type": "stream",
     "text": [
      "/home/yanfz/miniforge3/envs/a3fe/lib/python3.12/site-packages/nglview/__init__.py:12: UserWarning: pkg_resources is deprecated as an API. See https://setuptools.pypa.io/en/latest/pkg_resources.html. The pkg_resources package is slated for removal as early as 2025-11-30. Refrain from using this package or pin to Setuptools<81.\n",
      "  import pkg_resources\n",
      "INFO:rdkit:Enabling RDKit 2024.03.5 jupyter extensions\n",
      "INFO:numexpr.utils:Note: NumExpr detected 32 cores but \"NUMEXPR_MAX_THREADS\" not set, so enforcing safe limit of 16.\n",
      "INFO:numexpr.utils:NumExpr defaulting to 16 threads.\n"
     ]
    }
   ],
   "source": [
    "import BioSimSpace.Sandpit.Exscientia as BSS\n",
    "import numpy as np\n",
    "import pandas as pd"
   ]
  },
  {
   "cell_type": "code",
   "execution_count": 2,
   "metadata": {},
   "outputs": [],
   "source": [
    "system = BSS.IO.readMolecules([\"bound/ensemble_equilibration_1/bound_preequil.prm7\",\"bound/ensemble_equilibration_1/bound_preequil.rst7\"])"
   ]
  },
  {
   "cell_type": "code",
   "execution_count": 3,
   "metadata": {},
   "outputs": [
    {
     "data": {
      "text/plain": [
       "[<BioSimSpace.Residue: name='LIG', molecule=52, index=0, nAtoms=127>]"
      ]
     },
     "execution_count": 3,
     "metadata": {},
     "output_type": "execute_result"
    }
   ],
   "source": [
    "system[0].getResidues()"
   ]
  },
  {
   "cell_type": "code",
   "execution_count": 4,
   "metadata": {},
   "outputs": [],
   "source": [
    "lig = BSS.Align.decouple(system[0])\n",
    "system.updateMolecule(0, lig)"
   ]
  },
  {
   "cell_type": "code",
   "execution_count": 5,
   "metadata": {},
   "outputs": [
    {
     "name": "stdout",
     "output_type": "stream",
     "text": [
      "Indexing XTC \u001b[37;42m           \u001b[0m \u001b[35m  7.0 s\u001b[0m \u001b[36m197464768.0 bytes / s\u001b[0m          \n"
     ]
    }
   ],
   "source": [
    "traj = BSS.Trajectory.Trajectory(\n",
    "    trajectory=\"bound/ensemble_equilibration_1/gromacs.xtc\",\n",
    "    topology=\"bound/ensemble_equilibration_1/bound_preequil.prm7\",\n",
    ")"
   ]
  },
  {
   "cell_type": "code",
   "execution_count": 6,
   "metadata": {},
   "outputs": [
    {
     "name": "stderr",
     "output_type": "stream",
     "text": [
      "INFO:MDAnalysis.core.universe:The attribute(s) types, masses have already been read from the topology file. The guesser will only guess empty values for this attribute, if any exists. To overwrite it by completely guessed values, you can pass the attribute to the force_guess parameter instead of the to_guess one\n",
      "INFO:MDAnalysis.guesser.base:There is no empty types values. Guesser did not guess any new values for types attribute\n",
      "INFO:MDAnalysis.guesser.base:There is no empty masses values. Guesser did not guess any new values for masses attribute\n"
     ]
    },
    {
     "data": {
      "application/vnd.jupyter.widget-view+json": {
       "model_id": "cf662b8d0fd948e2be2b4c385686e4b0",
       "version_major": 2,
       "version_minor": 0
      },
      "text/plain": [
       "Searching for low variance pairs. Frame no:   0%|          | 0/2501 [00:00<?, ?it/s]"
      ]
     },
     "metadata": {},
     "output_type": "display_data"
    }
   ],
   "source": [
    "restraint = BSS.FreeEnergy.RestraintSearch.analyse(\n",
    "    work_dir = \"./get_restraints\",\n",
    "    system = system,\n",
    "    traj = traj,\n",
    "    temperature = 298 * BSS.Units.Temperature.kelvin,\n",
    "    method=\"BSS\",\n",
    "    restraint_type = \"multiple_distance\",\n",
    ")"
   ]
  },
  {
   "cell_type": "code",
   "execution_count": 7,
   "metadata": {},
   "outputs": [],
   "source": [
    "restrain_dict=restraint.toString(engine=\"Somd\")"
   ]
  },
  {
   "cell_type": "code",
   "execution_count": 8,
   "metadata": {},
   "outputs": [
    {
     "data": {
      "text/plain": [
       "'distance restraints dictionary = {(340, 22): (5.967301273865537, 20.0, 0.818216079516433), (6048, 5): (7.6177123280271895, 20.0, 0.8651516572845273), (4387, 57): (8.803827970449168, 20.0, 0.8765240203970492), (320, 10): (8.482756757352762, 20.0, 0.8829745202287498), (6109, 16): (5.147912057372962, 20.0, 0.8740407239436676), (6048, 33): (8.416228955107606, 20.0, 0.88667191628124), (3267, 65): (8.98063201127738, 20.0, 0.9363134171566152), (320, 24): (8.696532830731806, 20.0, 0.9607869088073446), (3267, 14): (8.46463697647875, 20.0, 0.932306182460616), (3243, 63): (9.279103367522826, 20.0, 0.9682310989346945), (4389, 0): (9.041243785614189, 20.0, 0.9672235054604617), (6154, 46): (6.0470674067987344, 20.0, 0.9859646528604333), (6154, 61): (7.2704204451744845, 20.0, 0.9656838947270607), (3267, 59): (7.0498180601990015, 20.0, 0.9917711232621951), (3279, 52): (6.557667833280758, 20.0, 0.9857389809777759), (4335, 53): (6.229698580999708, 20.0, 0.9629660760277075), (342, 20): (5.01244455439076, 20.0, 1.0169170367074), (4387, 51): (9.21050154785587, 20.0, 0.9995268129681971), (4335, 21): (6.95746158756477, 20.0, 1.0718061763466542), (6109, 1): (5.824900311618985, 20.0, 1.0542332853238996), (4335, 56): (7.055805457005627, 20.0, 1.064222479624962), (338, 4): (7.850166926067904, 20.0, 1.0834736472591509), (6109, 50): (6.169784285793059, 20.0, 1.0794887051068098), (5283, 31): (7.649947611681463, 20.0, 1.0643211882235786), (5283, 29): (7.956078138471746, 20.0, 1.133202364673088), (6164, 64): (9.419049071783123, 20.0, 1.1225504014279863), (6164, 43): (9.710100960637353, 20.0, 1.0996988614122234), (5283, 23): (9.139988597662724, 20.0, 1.1250386304632585), (6164, 25): (8.69297691747105, 20.0, 1.155509857997993), (3231, 7): (10.019125012060274, 20.0, 1.1527793361037855), (6152, 60): (8.736205467120655, 20.0, 1.118199318323958), (4167, 58): (6.6130347609291205, 20.0, 1.1657474277381743), (6166, 26): (9.194467915465992, 20.0, 1.1627829488102925), (5255, 38): (8.3228169417913, 20.0, 1.1758410826101304), (4237, 62): (7.788857806163045, 20.0, 1.1863574077280523), (6109, 11): (10.004858937701814, 20.0, 1.1984941837322758), (6015, 8): (7.541359589793675, 20.0, 1.1792510613061493), (4387, 9): (9.746322035261525, 20.0, 1.198756457142288), (5255, 28): (9.097740217496948, 20.0, 1.2218491520742045), (6109, 42): (7.94180480641039, 20.0, 1.1735909980120187), (5071, 27): (9.664527389919252, 20.0, 1.2347984091151751), (3267, 17): (8.375815177271015, 20.0, 1.223476660120701), (6136, 2): (9.960048946719827, 20.0, 1.2498304838135894), (6109, 34): (10.334168327811046, 20.0, 1.2936201047697367), (5963, 37): (9.897512438902105, 20.0, 1.2581718861341784), (5073, 40): (7.792037608093452, 20.0, 1.2647222477324398), (6038, 30): (7.587001572264171, 20.0, 1.2778388504810287), (6036, 36): (9.09809132255463, 20.0, 1.2670201973270316), (4237, 19): (6.952072253606604, 20.0, 1.3290154248266948), (5071, 39): (9.521580160700484, 20.0, 1.303263410923389), (349, 18): (5.78158107247309, 20.0, 1.3467704711868915), (6162, 45): (5.646353648496031, 20.0, 1.4095036117355928), (6109, 6): (9.139542421011235, 20.0, 1.6027438074106506), (4374, 44): (9.4615231683355, 20.0, 1.4890688839202362), (5281, 32): (8.188097809107902, 20.0, 1.516607027324425), (6107, 35): (10.359991815453556, 20.0, 1.4671374674785405), (4249, 54): (8.172062682964976, 20.0, 1.5603668940794773), (353, 3): (9.656875366120593, 20.0, 1.6710925485418038), (5255, 41): (8.339739144487153, 20.0, 1.64491247531309), (4320, 55): (7.458692799263169, 20.0, 1.8341010640567745), (2222, 67): (8.07336216188023, 20.0, 1.9681738363613777), (3460, 12): (7.016876484390872, 20.0, 1.9754162581358976), (4320, 15): (7.1188752971756735, 20.0, 2.1977847265313635), (2193, 68): (6.969411412433908, 20.0, 2.2889030275334994), (6092, 69): (7.951497137574462, 20.0, 2.5976526354361127), (3458, 66): (9.172159796412538, 20.0, 2.8211672273843202), (4318, 49): (7.700259669915726, 20.0, 2.9441142701960734), (3456, 48): (8.385430997914382, 20.0, 3.824730480703991), (4296, 47): (6.314244136284431, 20.0, 4.520841965912804)}\\npermanent distance restraints dictionary = {(6109, 13): (4.975163829734033, 20.0, 0.8108228424187542)}'"
      ]
     },
     "execution_count": 8,
     "metadata": {},
     "output_type": "execute_result"
    }
   ],
   "source": [
    "restrain_dict"
   ]
  },
  {
   "cell_type": "code",
   "execution_count": 7,
   "metadata": {},
   "outputs": [
    {
     "name": "stderr",
     "output_type": "stream",
     "text": [
      "/home/yanfz/miniforge3/envs/a3fe/lib/python3.12/site-packages/BioSimSpace/Sandpit/Exscientia/FreeEnergy/_restraint.py:1157: UserWarning: The multiple distance restraint correction is assumes that only the 'permanent_distance_restraint' is active.\n",
      "  _warnings.warn(\n"
     ]
    },
    {
     "data": {
      "text/plain": [
       "-0.5960 kcal/mol"
      ]
     },
     "execution_count": 7,
     "metadata": {},
     "output_type": "execute_result"
    }
   ],
   "source": [
    "restraint.getCorrection(method = \"numerical\")"
   ]
  },
  {
   "cell_type": "code",
   "execution_count": 10,
   "metadata": {},
   "outputs": [
    {
     "data": {
      "application/vnd.jupyter.widget-view+json": {
       "model_id": "841b2c3617104e12ace02453a0b43c1b",
       "version_major": 2,
       "version_minor": 0
      },
      "text/plain": [
       "NGLWidget(gui_style='ngl')"
      ]
     },
     "metadata": {},
     "output_type": "display_data"
    }
   ],
   "source": [
    "view = BSS.Notebook.View(system)\n",
    "view.molecules([0, 1, 2, 3])\n"
   ]
  },
  {
   "cell_type": "code",
   "execution_count": 8,
   "metadata": {},
   "outputs": [
    {
     "name": "stderr",
     "output_type": "stream",
     "text": [
      "/home/yanfz/miniforge3/envs/a3fe/lib/python3.12/site-packages/BioSimSpace/Sandpit/Exscientia/FreeEnergy/_alchemical_free_energy.py:370: UserWarning: SOMD simulations with some non-interacting ligands can be unstable. This affects some systems with multiple distance restraints during the release restraint state. If you experience problems, consider using multiple distance restraints with GROMACS instead.\n",
      "  _warnings.warn(\n"
     ]
    }
   ],
   "source": [
    "lam_vals_release_restraint = [0.000, 0.100, 0.200, 0.300, 0.400, 0.500, 0.600, 0.700, 0.800, 0.900, 1.000]\n",
    "\n",
    "\n",
    "release_restraints_protocol = BSS.Protocol.FreeEnergy(runtime=1*BSS.Units.Time.nanosecond, \n",
    "                                                      timestep=4*BSS.Units.Time.femtosecond, \n",
    "                                                      lam_vals=lam_vals_release_restraint, \n",
    "                                                      perturbation_type=\"release_restraint\")\n",
    "\n",
    "release_restraints_fe_calc = BSS.FreeEnergy.AlchemicalFreeEnergy(restraint.system, \n",
    "                                                                 release_restraints_protocol, \n",
    "                                                                 engine='somd', \n",
    "                                                                 restraint=restraint,\n",
    "                                                                 work_dir='./get_restraints/release1')\n",
    "#generate one file, modify .cfg to be same as those of a3fe, then copy as five files."
   ]
  }
 ],
 "metadata": {
  "kernelspec": {
   "display_name": "a3fe",
   "language": "python",
   "name": "python3"
  },
  "language_info": {
   "codemirror_mode": {
    "name": "ipython",
    "version": 3
   },
   "file_extension": ".py",
   "mimetype": "text/x-python",
   "name": "python",
   "nbconvert_exporter": "python",
   "pygments_lexer": "ipython3",
   "version": "3.12.11"
  }
 },
 "nbformat": 4,
 "nbformat_minor": 2
}
