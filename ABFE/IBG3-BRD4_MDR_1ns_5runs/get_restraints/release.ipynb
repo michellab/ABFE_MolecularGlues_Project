{
 "cells": [
  {
   "cell_type": "code",
   "execution_count": 1,
   "metadata": {},
   "outputs": [
    {
     "data": {
      "application/vnd.jupyter.widget-view+json": {
       "model_id": "257fc3ecdfa740debf5098ed222eb0ad",
       "version_major": 2,
       "version_minor": 0
      },
      "text/plain": []
     },
     "metadata": {},
     "output_type": "display_data"
    },
    {
     "name": "stderr",
     "output_type": "stream",
     "text": [
      "/home/yanfz/miniforge3/envs/a3fe/lib/python3.12/site-packages/nglview/__init__.py:12: UserWarning: pkg_resources is deprecated as an API. See https://setuptools.pypa.io/en/latest/pkg_resources.html. The pkg_resources package is slated for removal as early as 2025-11-30. Refrain from using this package or pin to Setuptools<81.\n",
      "  import pkg_resources\n",
      "INFO:rdkit:Enabling RDKit 2024.03.5 jupyter extensions\n",
      "INFO:numexpr.utils:Note: NumExpr detected 32 cores but \"NUMEXPR_MAX_THREADS\" not set, so enforcing safe limit of 16.\n",
      "INFO:numexpr.utils:NumExpr defaulting to 16 threads.\n"
     ]
    }
   ],
   "source": [
    "# Import Exscientia sandpit as before\n",
    "import BioSimSpace.Sandpit.Exscientia as BSS\n",
    "\n",
    "# Imports for plotting and analysis\n",
    "import matplotlib.pyplot as plt\n",
    "import numpy as np"
   ]
  },
  {
   "cell_type": "code",
   "execution_count": 2,
   "metadata": {},
   "outputs": [],
   "source": [
    "from scipy import stats\n"
   ]
  },
  {
   "cell_type": "code",
   "execution_count": 2,
   "metadata": {},
   "outputs": [
    {
     "name": "stdout",
     "output_type": "stream",
     "text": [
      "Could not calculate statistical inefficiency.\n",
      "Running without calculating the statistical inefficiency and without subsampling...\n"
     ]
    },
    {
     "name": "stderr",
     "output_type": "stream",
     "text": [
      "/home/yanfz/miniforge3/envs/a3fe/lib/python3.12/site-packages/alchemlyb/estimators/mbar_.py:101: FutureWarning: When grouping with a length-1 list-like, you will need to pass a length-1 tuple to get_group in a future version of pandas. Pass `(name,)` instead of `name` to silence this warning.\n",
      "  (len(groups.get_group(i)) if i in groups.groups else 0)\n",
      "INFO:alchemlyb.estimators.AutoMBAR:Initialise the automatic routine of the MBAR estimator.\n",
      "INFO:alchemlyb.estimators.AutoMBAR:Trying the hybr method.\n",
      "INFO:alchemlyb.estimators.AutoMBAR:Solved MBAR equations with method 'hybr' and maximum_iterations=10000, relative_tolerance=1e-07\n"
     ]
    },
    {
     "name": "stdout",
     "output_type": "stream",
     "text": [
      "Could not calculate statistical inefficiency.\n",
      "Running without calculating the statistical inefficiency and without subsampling...\n"
     ]
    },
    {
     "name": "stderr",
     "output_type": "stream",
     "text": [
      "/home/yanfz/miniforge3/envs/a3fe/lib/python3.12/site-packages/alchemlyb/estimators/mbar_.py:101: FutureWarning: When grouping with a length-1 list-like, you will need to pass a length-1 tuple to get_group in a future version of pandas. Pass `(name,)` instead of `name` to silence this warning.\n",
      "  (len(groups.get_group(i)) if i in groups.groups else 0)\n",
      "INFO:alchemlyb.estimators.AutoMBAR:Initialise the automatic routine of the MBAR estimator.\n",
      "INFO:alchemlyb.estimators.AutoMBAR:Trying the hybr method.\n",
      "INFO:alchemlyb.estimators.AutoMBAR:Solved MBAR equations with method 'hybr' and maximum_iterations=10000, relative_tolerance=1e-07\n"
     ]
    },
    {
     "name": "stdout",
     "output_type": "stream",
     "text": [
      "Could not calculate statistical inefficiency.\n",
      "Running without calculating the statistical inefficiency and without subsampling...\n"
     ]
    },
    {
     "name": "stderr",
     "output_type": "stream",
     "text": [
      "/home/yanfz/miniforge3/envs/a3fe/lib/python3.12/site-packages/alchemlyb/estimators/mbar_.py:101: FutureWarning: When grouping with a length-1 list-like, you will need to pass a length-1 tuple to get_group in a future version of pandas. Pass `(name,)` instead of `name` to silence this warning.\n",
      "  (len(groups.get_group(i)) if i in groups.groups else 0)\n",
      "INFO:alchemlyb.estimators.AutoMBAR:Initialise the automatic routine of the MBAR estimator.\n",
      "INFO:alchemlyb.estimators.AutoMBAR:Trying the hybr method.\n",
      "INFO:alchemlyb.estimators.AutoMBAR:Solved MBAR equations with method 'hybr' and maximum_iterations=10000, relative_tolerance=1e-07\n"
     ]
    },
    {
     "name": "stdout",
     "output_type": "stream",
     "text": [
      "Could not calculate statistical inefficiency.\n",
      "Running without calculating the statistical inefficiency and without subsampling...\n"
     ]
    },
    {
     "name": "stderr",
     "output_type": "stream",
     "text": [
      "/home/yanfz/miniforge3/envs/a3fe/lib/python3.12/site-packages/alchemlyb/estimators/mbar_.py:101: FutureWarning: When grouping with a length-1 list-like, you will need to pass a length-1 tuple to get_group in a future version of pandas. Pass `(name,)` instead of `name` to silence this warning.\n",
      "  (len(groups.get_group(i)) if i in groups.groups else 0)\n",
      "INFO:alchemlyb.estimators.AutoMBAR:Initialise the automatic routine of the MBAR estimator.\n",
      "INFO:alchemlyb.estimators.AutoMBAR:Trying the hybr method.\n",
      "INFO:alchemlyb.estimators.AutoMBAR:Solved MBAR equations with method 'hybr' and maximum_iterations=10000, relative_tolerance=1e-07\n"
     ]
    },
    {
     "name": "stdout",
     "output_type": "stream",
     "text": [
      "Could not calculate statistical inefficiency.\n",
      "Running without calculating the statistical inefficiency and without subsampling...\n"
     ]
    },
    {
     "name": "stderr",
     "output_type": "stream",
     "text": [
      "/home/yanfz/miniforge3/envs/a3fe/lib/python3.12/site-packages/alchemlyb/estimators/mbar_.py:101: FutureWarning: When grouping with a length-1 list-like, you will need to pass a length-1 tuple to get_group in a future version of pandas. Pass `(name,)` instead of `name` to silence this warning.\n",
      "  (len(groups.get_group(i)) if i in groups.groups else 0)\n",
      "INFO:alchemlyb.estimators.AutoMBAR:Initialise the automatic routine of the MBAR estimator.\n",
      "INFO:alchemlyb.estimators.AutoMBAR:Trying the hybr method.\n",
      "INFO:alchemlyb.estimators.AutoMBAR:Solved MBAR equations with method 'hybr' and maximum_iterations=10000, relative_tolerance=1e-07\n"
     ]
    }
   ],
   "source": [
    "pmfs=[]\n",
    "overlaps = []\n",
    "for i in range (1,6):\n",
    "\n",
    "    pmf, overlap = BSS.FreeEnergy.AlchemicalFreeEnergy.analyse(\n",
    "    f\"release{i}\", estimator=\"MBAR\"\n",
    "    )\n",
    "\n",
    "    pmfs.append(pmf)\n",
    "    overlaps.append(overlaps)"
   ]
  },
  {
   "cell_type": "code",
   "execution_count": 3,
   "metadata": {},
   "outputs": [
    {
     "data": {
      "text/plain": [
       "[[(0.0, 0.0000e+00 kcal/mol, 0.0000e+00 kcal/mol),\n",
       "  (0.1, 0.5949 kcal/mol, 0.0085 kcal/mol),\n",
       "  (0.2, 4.6458 kcal/mol, 0.0572 kcal/mol),\n",
       "  (0.3, 8.5266 kcal/mol, 0.0897 kcal/mol),\n",
       "  (0.4, 11.2394 kcal/mol, 0.0987 kcal/mol),\n",
       "  (0.5, 13.3228 kcal/mol, 0.1039 kcal/mol),\n",
       "  (0.6, 14.9125 kcal/mol, 0.1072 kcal/mol),\n",
       "  (0.7, 16.0918 kcal/mol, 0.1095 kcal/mol),\n",
       "  (0.8, 16.9684 kcal/mol, 0.1109 kcal/mol),\n",
       "  (0.9, 17.6197 kcal/mol, 0.1120 kcal/mol),\n",
       "  (1.0, 18.0883 kcal/mol, 0.1127 kcal/mol)],\n",
       " [(0.0, 0.0000e+00 kcal/mol, 0.0000e+00 kcal/mol),\n",
       "  (0.1, 0.4535 kcal/mol, 0.0065 kcal/mol),\n",
       "  (0.2, 4.2315 kcal/mol, 0.0395 kcal/mol),\n",
       "  (0.3, 8.7130 kcal/mol, 0.1064 kcal/mol),\n",
       "  (0.4, 11.4035 kcal/mol, 0.1139 kcal/mol),\n",
       "  (0.5, 13.5590 kcal/mol, 0.1184 kcal/mol),\n",
       "  (0.6, 15.2218 kcal/mol, 0.1216 kcal/mol),\n",
       "  (0.7, 16.3969 kcal/mol, 0.1237 kcal/mol),\n",
       "  (0.8, 17.2216 kcal/mol, 0.1250 kcal/mol),\n",
       "  (0.9, 17.8034 kcal/mol, 0.1259 kcal/mol),\n",
       "  (1.0, 18.2278 kcal/mol, 0.1264 kcal/mol)],\n",
       " [(0.0, 0.0000e+00 kcal/mol, 0.0000e+00 kcal/mol),\n",
       "  (0.1, 0.7682 kcal/mol, 0.0082 kcal/mol),\n",
       "  (0.2, 5.1084 kcal/mol, 0.0746 kcal/mol),\n",
       "  (0.3, 9.5341 kcal/mol, 0.0976 kcal/mol),\n",
       "  (0.4, 12.5273 kcal/mol, 0.1082 kcal/mol),\n",
       "  (0.5, 14.5870 kcal/mol, 0.1134 kcal/mol),\n",
       "  (0.6, 16.0370 kcal/mol, 0.1163 kcal/mol),\n",
       "  (0.7, 17.1150 kcal/mol, 0.1182 kcal/mol),\n",
       "  (0.8, 17.8962 kcal/mol, 0.1194 kcal/mol),\n",
       "  (0.9, 18.4802 kcal/mol, 0.1202 kcal/mol),\n",
       "  (1.0, 18.9240 kcal/mol, 0.1208 kcal/mol)],\n",
       " [(0.0, 0.0000e+00 kcal/mol, 0.0000e+00 kcal/mol),\n",
       "  (0.1, 0.4652 kcal/mol, 0.0056 kcal/mol),\n",
       "  (0.2, 4.0356 kcal/mol, 0.0485 kcal/mol),\n",
       "  (0.3, 7.6996 kcal/mol, 0.0741 kcal/mol),\n",
       "  (0.4, 10.8796 kcal/mol, 0.0862 kcal/mol),\n",
       "  (0.5, 13.1197 kcal/mol, 0.0936 kcal/mol),\n",
       "  (0.6, 14.6405 kcal/mol, 0.0974 kcal/mol),\n",
       "  (0.7, 15.8068 kcal/mol, 0.0996 kcal/mol),\n",
       "  (0.8, 16.7330 kcal/mol, 0.1011 kcal/mol),\n",
       "  (0.9, 17.4387 kcal/mol, 0.1023 kcal/mol),\n",
       "  (1.0, 17.9480 kcal/mol, 0.1032 kcal/mol)],\n",
       " [(0.0, 0.0000e+00 kcal/mol, 0.0000e+00 kcal/mol),\n",
       "  (0.1, 0.5889 kcal/mol, 0.0065 kcal/mol),\n",
       "  (0.2, 4.8969 kcal/mol, 0.0682 kcal/mol),\n",
       "  (0.3, 8.5542 kcal/mol, 0.0917 kcal/mol),\n",
       "  (0.4, 11.2884 kcal/mol, 0.1004 kcal/mol),\n",
       "  (0.5, 13.3402 kcal/mol, 0.1056 kcal/mol),\n",
       "  (0.6, 14.8539 kcal/mol, 0.1089 kcal/mol),\n",
       "  (0.7, 15.9947 kcal/mol, 0.1109 kcal/mol),\n",
       "  (0.8, 16.8807 kcal/mol, 0.1123 kcal/mol),\n",
       "  (0.9, 17.5460 kcal/mol, 0.1133 kcal/mol),\n",
       "  (1.0, 18.0290 kcal/mol, 0.1140 kcal/mol)]]"
      ]
     },
     "execution_count": 3,
     "metadata": {},
     "output_type": "execute_result"
    }
   ],
   "source": [
    "pmfs"
   ]
  },
  {
   "cell_type": "code",
   "execution_count": 5,
   "metadata": {},
   "outputs": [],
   "source": [
    "energies = []\n",
    "mean_energy = []\n",
    "for i in range (5):\n",
    "    energy = pmfs[i][-1][1].value()\n",
    "    std = pmfs[i][-1][2].value()\n",
    "    CI = std * 1.96\n",
    "    mean_energy.append(energy)\n",
    "    energies.append (f\"{energy} +/- {CI} kcal/mol\")"
   ]
  },
  {
   "cell_type": "code",
   "execution_count": 6,
   "metadata": {},
   "outputs": [
    {
     "data": {
      "text/plain": [
       "['18.088284550012048 +/- 0.22087180636530937 kcal/mol',\n",
       " '18.22776901302676 +/- 0.2478077663238664 kcal/mol',\n",
       " '18.924036412499493 +/- 0.23680764796847953 kcal/mol',\n",
       " '17.94804428188659 +/- 0.2022897587668817 kcal/mol',\n",
       " '18.029018613449363 +/- 0.2234638927055505 kcal/mol']"
      ]
     },
     "execution_count": 6,
     "metadata": {},
     "output_type": "execute_result"
    }
   ],
   "source": [
    "energies"
   ]
  },
  {
   "cell_type": "code",
   "execution_count": 8,
   "metadata": {},
   "outputs": [
    {
     "data": {
      "text/plain": [
       "18.24343057417485"
      ]
     },
     "execution_count": 8,
     "metadata": {},
     "output_type": "execute_result"
    }
   ],
   "source": [
    "np.array(mean_energy).mean()"
   ]
  }
 ],
 "metadata": {
  "kernelspec": {
   "display_name": "a3fe",
   "language": "python",
   "name": "python3"
  },
  "language_info": {
   "codemirror_mode": {
    "name": "ipython",
    "version": 3
   },
   "file_extension": ".py",
   "mimetype": "text/x-python",
   "name": "python",
   "nbconvert_exporter": "python",
   "pygments_lexer": "ipython3",
   "version": "3.12.11"
  }
 },
 "nbformat": 4,
 "nbformat_minor": 2
}
