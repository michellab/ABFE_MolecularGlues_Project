{
 "cells": [
  {
   "cell_type": "code",
   "execution_count": 2,
   "metadata": {},
   "outputs": [
    {
     "data": {
      "application/vnd.jupyter.widget-view+json": {
       "model_id": "37e1d791b4024ba88ddfc0167c24289c",
       "version_major": 2,
       "version_minor": 0
      },
      "text/plain": []
     },
     "metadata": {},
     "output_type": "display_data"
    },
    {
     "name": "stderr",
     "output_type": "stream",
     "text": [
      "INFO:rdkit:Enabling RDKit 2024.03.5 jupyter extensions\n",
      "INFO:numexpr.utils:Note: NumExpr detected 20 cores but \"NUMEXPR_MAX_THREADS\" not set, so enforcing safe limit of 16.\n",
      "INFO:numexpr.utils:NumExpr defaulting to 16 threads.\n"
     ]
    }
   ],
   "source": [
    "import BioSimSpace.Sandpit.Exscientia as BSS\n",
    "import numpy as np\n",
    "import pandas as pd"
   ]
  },
  {
   "cell_type": "code",
   "execution_count": 5,
   "metadata": {},
   "outputs": [],
   "source": [
    "system = BSS.IO.readMolecules([\"bound/ensemble_equilibration_1/bound_preequil.prm7\",\"bound/ensemble_equilibration_1/bound_preequil.rst7\"])"
   ]
  },
  {
   "cell_type": "code",
   "execution_count": 3,
   "metadata": {},
   "outputs": [],
   "source": [
    "lig = BSS.Align.decouple(system[0])\n",
    "system.updateMolecule(0, lig)"
   ]
  },
  {
   "cell_type": "code",
   "execution_count": 5,
   "metadata": {},
   "outputs": [
    {
     "data": {
      "text/plain": [
       "[<BioSimSpace.Residue: name='LIG', molecule=45, index=0, nAtoms=97>]"
      ]
     },
     "execution_count": 5,
     "metadata": {},
     "output_type": "execute_result"
    }
   ],
   "source": [
    "system[0].getResidues()"
   ]
  },
  {
   "cell_type": "code",
   "execution_count": 4,
   "metadata": {},
   "outputs": [
    {
     "name": "stdout",
     "output_type": "stream",
     "text": [
      "Indexing XTC \u001b[37;42m           \u001b[0m \u001b[35m   15 s\u001b[0m \u001b[36m92540240.0 bytes / s\u001b[0m          \n"
     ]
    }
   ],
   "source": [
    "traj = BSS.Trajectory.Trajectory(\n",
    "    trajectory=\"bound/ensemble_equilibration_1/gromacs.xtc\",\n",
    "    topology=\"bound/ensemble_equilibration_1/bound_preequil.prm7\",\n",
    ")\n"
   ]
  },
  {
   "cell_type": "code",
   "execution_count": 6,
   "metadata": {},
   "outputs": [
    {
     "name": "stderr",
     "output_type": "stream",
     "text": [
      "INFO:MDAnalysis.core.universe:The attribute(s) masses, types have already been read from the topology file. The guesser will only guess empty values for this attribute, if any exists. To overwrite it by completely guessed values, you can pass the attribute to the force_guess parameter instead of the to_guess one\n",
      "INFO:MDAnalysis.guesser.base:There is no empty types values. Guesser did not guess any new values for types attribute\n",
      "INFO:MDAnalysis.guesser.base:There is no empty masses values. Guesser did not guess any new values for masses attribute\n"
     ]
    },
    {
     "data": {
      "application/vnd.jupyter.widget-view+json": {
       "model_id": "0f0743df1ca349f49890855131925154",
       "version_major": 2,
       "version_minor": 0
      },
      "text/plain": [
       "Searching for low variance pairs. Frame no:   0%|          | 0/2501 [00:00<?, ?it/s]"
      ]
     },
     "metadata": {},
     "output_type": "display_data"
    }
   ],
   "source": [
    "restraint = BSS.FreeEnergy.RestraintSearch.analyse(\n",
    "    work_dir = \"./get_restraints\",\n",
    "    system = system,\n",
    "    traj = traj,\n",
    "    temperature = 298 * BSS.Units.Temperature.kelvin,\n",
    "    method=\"BSS\",\n",
    "    restraint_type = \"multiple_distance\",\n",
    ")"
   ]
  },
  {
   "cell_type": "code",
   "execution_count": 7,
   "metadata": {},
   "outputs": [],
   "source": [
    "restrain_dict=restraint.toString(engine=\"Somd\")"
   ]
  },
  {
   "cell_type": "code",
   "execution_count": 11,
   "metadata": {},
   "outputs": [
    {
     "name": "stderr",
     "output_type": "stream",
     "text": [
      "/home/yanfz/miniconda3/envs/openbiosim/lib/python3.10/site-packages/BioSimSpace/Sandpit/Exscientia/FreeEnergy/_restraint.py:1157: UserWarning: The multiple distance restraint correction is assumes that only the 'permanent_distance_restraint' is active.\n",
      "  _warnings.warn(\n"
     ]
    },
    {
     "data": {
      "text/plain": [
       "-0.6672 kcal/mol"
      ]
     },
     "execution_count": 11,
     "metadata": {},
     "output_type": "execute_result"
    }
   ],
   "source": [
    "restraint.getCorrection(method=\"numerical\")"
   ]
  },
  {
   "cell_type": "code",
   "execution_count": 8,
   "metadata": {},
   "outputs": [
    {
     "name": "stderr",
     "output_type": "stream",
     "text": [
      "/home/yanfz/miniconda3/envs/openbiosim/lib/python3.10/site-packages/BioSimSpace/Sandpit/Exscientia/FreeEnergy/_alchemical_free_energy.py:370: UserWarning: SOMD simulations with some non-interacting ligands can be unstable. This affects some systems with multiple distance restraints during the release restraint state. If you experience problems, consider using multiple distance restraints with GROMACS instead.\n",
      "  _warnings.warn(\n",
      "/home/yanfz/miniconda3/envs/openbiosim/lib/python3.10/site-packages/BioSimSpace/Sandpit/Exscientia/FreeEnergy/_alchemical_free_energy.py:370: UserWarning: SOMD simulations with some non-interacting ligands can be unstable. This affects some systems with multiple distance restraints during the release restraint state. If you experience problems, consider using multiple distance restraints with GROMACS instead.\n",
      "  _warnings.warn(\n",
      "/home/yanfz/miniconda3/envs/openbiosim/lib/python3.10/site-packages/BioSimSpace/Sandpit/Exscientia/FreeEnergy/_alchemical_free_energy.py:370: UserWarning: SOMD simulations with some non-interacting ligands can be unstable. This affects some systems with multiple distance restraints during the release restraint state. If you experience problems, consider using multiple distance restraints with GROMACS instead.\n",
      "  _warnings.warn(\n"
     ]
    }
   ],
   "source": [
    "lam_vals_release_restraint = [0.000, 0.100, 0.200, 0.300, 0.400, 0.500, 0.600, 0.700, 0.800, 0.900, 1.000]\n",
    "for i in range (1,4):\n",
    "\n",
    "    release_restraints_protocol = BSS.Protocol.FreeEnergy(runtime=1*BSS.Units.Time.nanosecond, \n",
    "                                                      timestep=4*BSS.Units.Time.femtosecond, \n",
    "                                                      lam_vals=lam_vals_release_restraint, \n",
    "                                                      perturbation_type=\"release_restraint\")\n",
    "\n",
    "    release_restraints_fe_calc = BSS.FreeEnergy.AlchemicalFreeEnergy(restraint.system, \n",
    "                                                                 release_restraints_protocol, \n",
    "                                                                 engine='somd', \n",
    "                                                                 restraint=restraint,\n",
    "                                                                 work_dir=f'./get_restraints/release{i}')"
   ]
  }
 ],
 "metadata": {
  "kernelspec": {
   "display_name": "openbiosim",
   "language": "python",
   "name": "python3"
  },
  "language_info": {
   "codemirror_mode": {
    "name": "ipython",
    "version": 3
   },
   "file_extension": ".py",
   "mimetype": "text/x-python",
   "name": "python",
   "nbconvert_exporter": "python",
   "pygments_lexer": "ipython3",
   "version": "3.10.13"
  }
 },
 "nbformat": 4,
 "nbformat_minor": 2
}
