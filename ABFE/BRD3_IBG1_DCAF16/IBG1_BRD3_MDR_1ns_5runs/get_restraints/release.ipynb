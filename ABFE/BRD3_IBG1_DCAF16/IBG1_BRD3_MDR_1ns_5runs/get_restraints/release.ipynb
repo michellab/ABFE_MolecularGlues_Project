{
 "cells": [
  {
   "cell_type": "code",
   "execution_count": 1,
   "metadata": {},
   "outputs": [
    {
     "data": {
      "application/vnd.jupyter.widget-view+json": {
       "model_id": "88bfb05edd0e46e98b874c8278f3c63f",
       "version_major": 2,
       "version_minor": 0
      },
      "text/plain": []
     },
     "metadata": {},
     "output_type": "display_data"
    },
    {
     "name": "stderr",
     "output_type": "stream",
     "text": [
      "/home/yanfz/miniforge3/envs/a3fe/lib/python3.12/site-packages/nglview/__init__.py:12: UserWarning: pkg_resources is deprecated as an API. See https://setuptools.pypa.io/en/latest/pkg_resources.html. The pkg_resources package is slated for removal as early as 2025-11-30. Refrain from using this package or pin to Setuptools<81.\n",
      "  import pkg_resources\n",
      "INFO:rdkit:Enabling RDKit 2024.03.5 jupyter extensions\n",
      "INFO:numexpr.utils:Note: NumExpr detected 32 cores but \"NUMEXPR_MAX_THREADS\" not set, so enforcing safe limit of 16.\n",
      "INFO:numexpr.utils:NumExpr defaulting to 16 threads.\n"
     ]
    }
   ],
   "source": [
    "# Import Exscientia sandpit as before\n",
    "import BioSimSpace.Sandpit.Exscientia as BSS\n",
    "\n",
    "# Imports for plotting and analysis\n",
    "import matplotlib.pyplot as plt\n",
    "import numpy as np"
   ]
  },
  {
   "cell_type": "code",
   "execution_count": 2,
   "metadata": {},
   "outputs": [],
   "source": [
    "from scipy import stats\n"
   ]
  },
  {
   "cell_type": "code",
   "execution_count": 5,
   "metadata": {},
   "outputs": [
    {
     "name": "stdout",
     "output_type": "stream",
     "text": [
      "Could not calculate statistical inefficiency.\n",
      "Running without calculating the statistical inefficiency and without subsampling...\n"
     ]
    },
    {
     "name": "stderr",
     "output_type": "stream",
     "text": [
      "/home/yanfz/miniforge3/envs/a3fe/lib/python3.12/site-packages/alchemlyb/estimators/mbar_.py:101: FutureWarning: When grouping with a length-1 list-like, you will need to pass a length-1 tuple to get_group in a future version of pandas. Pass `(name,)` instead of `name` to silence this warning.\n",
      "  (len(groups.get_group(i)) if i in groups.groups else 0)\n",
      "INFO:alchemlyb.estimators.AutoMBAR:Initialise the automatic routine of the MBAR estimator.\n",
      "INFO:alchemlyb.estimators.AutoMBAR:Trying the hybr method.\n",
      "INFO:alchemlyb.estimators.AutoMBAR:Solved MBAR equations with method 'hybr' and maximum_iterations=10000, relative_tolerance=1e-07\n"
     ]
    },
    {
     "name": "stdout",
     "output_type": "stream",
     "text": [
      "Could not calculate statistical inefficiency.\n",
      "Running without calculating the statistical inefficiency and without subsampling...\n"
     ]
    },
    {
     "name": "stderr",
     "output_type": "stream",
     "text": [
      "/home/yanfz/miniforge3/envs/a3fe/lib/python3.12/site-packages/alchemlyb/estimators/mbar_.py:101: FutureWarning: When grouping with a length-1 list-like, you will need to pass a length-1 tuple to get_group in a future version of pandas. Pass `(name,)` instead of `name` to silence this warning.\n",
      "  (len(groups.get_group(i)) if i in groups.groups else 0)\n",
      "INFO:alchemlyb.estimators.AutoMBAR:Initialise the automatic routine of the MBAR estimator.\n",
      "INFO:alchemlyb.estimators.AutoMBAR:Trying the hybr method.\n",
      "INFO:alchemlyb.estimators.AutoMBAR:Solved MBAR equations with method 'hybr' and maximum_iterations=10000, relative_tolerance=1e-07\n"
     ]
    },
    {
     "name": "stdout",
     "output_type": "stream",
     "text": [
      "Could not calculate statistical inefficiency.\n",
      "Running without calculating the statistical inefficiency and without subsampling...\n"
     ]
    },
    {
     "name": "stderr",
     "output_type": "stream",
     "text": [
      "/home/yanfz/miniforge3/envs/a3fe/lib/python3.12/site-packages/alchemlyb/estimators/mbar_.py:101: FutureWarning: When grouping with a length-1 list-like, you will need to pass a length-1 tuple to get_group in a future version of pandas. Pass `(name,)` instead of `name` to silence this warning.\n",
      "  (len(groups.get_group(i)) if i in groups.groups else 0)\n",
      "INFO:alchemlyb.estimators.AutoMBAR:Initialise the automatic routine of the MBAR estimator.\n",
      "INFO:alchemlyb.estimators.AutoMBAR:Trying the hybr method.\n",
      "INFO:alchemlyb.estimators.AutoMBAR:Solved MBAR equations with method 'hybr' and maximum_iterations=10000, relative_tolerance=1e-07\n"
     ]
    },
    {
     "name": "stdout",
     "output_type": "stream",
     "text": [
      "Could not calculate statistical inefficiency.\n",
      "Running without calculating the statistical inefficiency and without subsampling...\n"
     ]
    },
    {
     "name": "stderr",
     "output_type": "stream",
     "text": [
      "/home/yanfz/miniforge3/envs/a3fe/lib/python3.12/site-packages/alchemlyb/estimators/mbar_.py:101: FutureWarning: When grouping with a length-1 list-like, you will need to pass a length-1 tuple to get_group in a future version of pandas. Pass `(name,)` instead of `name` to silence this warning.\n",
      "  (len(groups.get_group(i)) if i in groups.groups else 0)\n",
      "INFO:alchemlyb.estimators.AutoMBAR:Initialise the automatic routine of the MBAR estimator.\n",
      "INFO:alchemlyb.estimators.AutoMBAR:Trying the hybr method.\n",
      "INFO:alchemlyb.estimators.AutoMBAR:Solved MBAR equations with method 'hybr' and maximum_iterations=10000, relative_tolerance=1e-07\n"
     ]
    },
    {
     "name": "stdout",
     "output_type": "stream",
     "text": [
      "Could not calculate statistical inefficiency.\n",
      "Running without calculating the statistical inefficiency and without subsampling...\n"
     ]
    },
    {
     "name": "stderr",
     "output_type": "stream",
     "text": [
      "/home/yanfz/miniforge3/envs/a3fe/lib/python3.12/site-packages/alchemlyb/estimators/mbar_.py:101: FutureWarning: When grouping with a length-1 list-like, you will need to pass a length-1 tuple to get_group in a future version of pandas. Pass `(name,)` instead of `name` to silence this warning.\n",
      "  (len(groups.get_group(i)) if i in groups.groups else 0)\n",
      "INFO:alchemlyb.estimators.AutoMBAR:Initialise the automatic routine of the MBAR estimator.\n",
      "INFO:alchemlyb.estimators.AutoMBAR:Trying the hybr method.\n",
      "INFO:alchemlyb.estimators.AutoMBAR:Solved MBAR equations with method 'hybr' and maximum_iterations=10000, relative_tolerance=1e-07\n"
     ]
    }
   ],
   "source": [
    "pmfs=[]\n",
    "overlaps = []\n",
    "for i in range (1,6):\n",
    "    pmf, overlap = BSS.FreeEnergy.AlchemicalFreeEnergy.analyse(\n",
    "    f\"release{i}\", estimator=\"MBAR\"\n",
    "    )\n",
    "    pmfs.append(pmf)\n",
    "    overlaps.append(overlaps)"
   ]
  },
  {
   "cell_type": "code",
   "execution_count": 6,
   "metadata": {},
   "outputs": [
    {
     "data": {
      "text/plain": [
       "[[(0.0, 0.0000e+00 kcal/mol, 0.0000e+00 kcal/mol),\n",
       "  (0.1, 1.5240 kcal/mol, 0.0252 kcal/mol),\n",
       "  (0.2, 5.9483 kcal/mol, 0.0855 kcal/mol),\n",
       "  (0.3, 9.9820 kcal/mol, 0.1105 kcal/mol),\n",
       "  (0.4, 12.8522 kcal/mol, 0.1187 kcal/mol),\n",
       "  (0.5, 14.7645 kcal/mol, 0.1232 kcal/mol),\n",
       "  (0.6, 16.0307 kcal/mol, 0.1259 kcal/mol),\n",
       "  (0.7, 16.8618 kcal/mol, 0.1273 kcal/mol),\n",
       "  (0.8, 17.4545 kcal/mol, 0.1282 kcal/mol),\n",
       "  (0.9, 17.9022 kcal/mol, 0.1287 kcal/mol),\n",
       "  (1.0, 18.2443 kcal/mol, 0.1291 kcal/mol)],\n",
       " [(0.0, 0.0000e+00 kcal/mol, 0.0000e+00 kcal/mol),\n",
       "  (0.1, 0.7775 kcal/mol, 0.0118 kcal/mol),\n",
       "  (0.2, 4.5151 kcal/mol, 0.0597 kcal/mol),\n",
       "  (0.3, 8.6273 kcal/mol, 0.0851 kcal/mol),\n",
       "  (0.4, 11.4668 kcal/mol, 0.0980 kcal/mol),\n",
       "  (0.5, 13.1128 kcal/mol, 0.1029 kcal/mol),\n",
       "  (0.6, 14.1831 kcal/mol, 0.1055 kcal/mol),\n",
       "  (0.7, 14.9412 kcal/mol, 0.1069 kcal/mol),\n",
       "  (0.8, 15.5114 kcal/mol, 0.1078 kcal/mol),\n",
       "  (0.9, 15.9256 kcal/mol, 0.1085 kcal/mol),\n",
       "  (1.0, 16.2196 kcal/mol, 0.1089 kcal/mol)],\n",
       " [(0.0, 0.0000e+00 kcal/mol, 0.0000e+00 kcal/mol),\n",
       "  (0.1, 1.1141 kcal/mol, 0.0180 kcal/mol),\n",
       "  (0.2, 5.0931 kcal/mol, 0.0719 kcal/mol),\n",
       "  (0.3, 8.8316 kcal/mol, 0.0911 kcal/mol),\n",
       "  (0.4, 11.6809 kcal/mol, 0.1015 kcal/mol),\n",
       "  (0.5, 13.5534 kcal/mol, 0.1066 kcal/mol),\n",
       "  (0.6, 14.8420 kcal/mol, 0.1095 kcal/mol),\n",
       "  (0.7, 15.7520 kcal/mol, 0.1112 kcal/mol),\n",
       "  (0.8, 16.3925 kcal/mol, 0.1123 kcal/mol),\n",
       "  (0.9, 16.8278 kcal/mol, 0.1131 kcal/mol),\n",
       "  (1.0, 17.1349 kcal/mol, 0.1135 kcal/mol)],\n",
       " [(0.0, 0.0000e+00 kcal/mol, 0.0000e+00 kcal/mol),\n",
       "  (0.1, 1.4853 kcal/mol, 0.0200 kcal/mol),\n",
       "  (0.2, 5.6867 kcal/mol, 0.0971 kcal/mol),\n",
       "  (0.3, 10.1226 kcal/mol, 0.1184 kcal/mol),\n",
       "  (0.4, 13.1674 kcal/mol, 0.1280 kcal/mol),\n",
       "  (0.5, 15.0445 kcal/mol, 0.1325 kcal/mol),\n",
       "  (0.6, 16.2441 kcal/mol, 0.1348 kcal/mol),\n",
       "  (0.7, 17.0705 kcal/mol, 0.1361 kcal/mol),\n",
       "  (0.8, 17.6404 kcal/mol, 0.1369 kcal/mol),\n",
       "  (0.9, 18.0447 kcal/mol, 0.1374 kcal/mol),\n",
       "  (1.0, 18.3446 kcal/mol, 0.1378 kcal/mol)],\n",
       " [(0.0, 0.0000e+00 kcal/mol, 0.0000e+00 kcal/mol),\n",
       "  (0.1, 0.8522 kcal/mol, 0.0123 kcal/mol),\n",
       "  (0.2, 4.9690 kcal/mol, 0.0698 kcal/mol),\n",
       "  (0.3, 8.7662 kcal/mol, 0.0951 kcal/mol),\n",
       "  (0.4, 11.5697 kcal/mol, 0.1043 kcal/mol),\n",
       "  (0.5, 13.3575 kcal/mol, 0.1097 kcal/mol),\n",
       "  (0.6, 14.4318 kcal/mol, 0.1122 kcal/mol),\n",
       "  (0.7, 15.2076 kcal/mol, 0.1136 kcal/mol),\n",
       "  (0.8, 15.7834 kcal/mol, 0.1145 kcal/mol),\n",
       "  (0.9, 16.1966 kcal/mol, 0.1151 kcal/mol),\n",
       "  (1.0, 16.4983 kcal/mol, 0.1155 kcal/mol)]]"
      ]
     },
     "execution_count": 6,
     "metadata": {},
     "output_type": "execute_result"
    }
   ],
   "source": [
    "pmfs"
   ]
  },
  {
   "cell_type": "code",
   "execution_count": 1,
   "metadata": {},
   "outputs": [
    {
     "ename": "NameError",
     "evalue": "name 'pmfs' is not defined",
     "output_type": "error",
     "traceback": [
      "\u001b[31m---------------------------------------------------------------------------\u001b[39m",
      "\u001b[31mNameError\u001b[39m                                 Traceback (most recent call last)",
      "\u001b[36mCell\u001b[39m\u001b[36m \u001b[39m\u001b[32mIn[1]\u001b[39m\u001b[32m, line 3\u001b[39m\n\u001b[32m      1\u001b[39m mean_energy = []\n\u001b[32m      2\u001b[39m \u001b[38;5;28;01mfor\u001b[39;00m i \u001b[38;5;129;01min\u001b[39;00m \u001b[38;5;28mrange\u001b[39m (\u001b[32m5\u001b[39m):\n\u001b[32m----> \u001b[39m\u001b[32m3\u001b[39m     energy = \u001b[43mpmfs\u001b[49m[i][-\u001b[32m1\u001b[39m][\u001b[32m1\u001b[39m].value()\n\u001b[32m      4\u001b[39m     std = pmfs[i][-\u001b[32m1\u001b[39m][\u001b[32m2\u001b[39m].value()\n\u001b[32m      5\u001b[39m     CI = std * \u001b[32m1.96\u001b[39m\n",
      "\u001b[31mNameError\u001b[39m: name 'pmfs' is not defined"
     ]
    }
   ],
   "source": [
    "energies = []\n",
    "for i in range (5):\n",
    "    energy = pmfs[i][-1][1].value()\n",
    "    std = pmfs[i][-1][2].value()\n",
    "    CI = std * 1.96\n",
    "    mean_energy.append(energy)\n",
    "    energies.append (f\"{energy} +/- {CI} kcal/mol\")"
   ]
  },
  {
   "cell_type": "code",
   "execution_count": null,
   "metadata": {},
   "outputs": [],
   "source": [
    "energies"
   ]
  },
  {
   "cell_type": "code",
   "execution_count": null,
   "metadata": {},
   "outputs": [],
   "source": []
  }
 ],
 "metadata": {
  "kernelspec": {
   "display_name": "a3fe",
   "language": "python",
   "name": "python3"
  },
  "language_info": {
   "codemirror_mode": {
    "name": "ipython",
    "version": 3
   },
   "file_extension": ".py",
   "mimetype": "text/x-python",
   "name": "python",
   "nbconvert_exporter": "python",
   "pygments_lexer": "ipython3",
   "version": "3.12.11"
  }
 },
 "nbformat": 4,
 "nbformat_minor": 2
}
