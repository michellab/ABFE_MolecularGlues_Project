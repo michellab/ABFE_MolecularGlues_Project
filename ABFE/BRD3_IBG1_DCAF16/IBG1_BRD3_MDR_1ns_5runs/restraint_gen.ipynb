{
 "cells": [
  {
   "cell_type": "code",
   "execution_count": 1,
   "metadata": {},
   "outputs": [
    {
     "data": {
      "application/vnd.jupyter.widget-view+json": {
       "model_id": "d141ee2541f7414ab952f5db5ea3f252",
       "version_major": 2,
       "version_minor": 0
      },
      "text/plain": []
     },
     "metadata": {},
     "output_type": "display_data"
    },
    {
     "name": "stderr",
     "output_type": "stream",
     "text": [
      "/home/yanfz/miniforge3/envs/a3fe/lib/python3.12/site-packages/nglview/__init__.py:12: UserWarning: pkg_resources is deprecated as an API. See https://setuptools.pypa.io/en/latest/pkg_resources.html. The pkg_resources package is slated for removal as early as 2025-11-30. Refrain from using this package or pin to Setuptools<81.\n",
      "  import pkg_resources\n",
      "INFO:rdkit:Enabling RDKit 2024.03.5 jupyter extensions\n",
      "INFO:numexpr.utils:Note: NumExpr detected 32 cores but \"NUMEXPR_MAX_THREADS\" not set, so enforcing safe limit of 16.\n",
      "INFO:numexpr.utils:NumExpr defaulting to 16 threads.\n"
     ]
    }
   ],
   "source": [
    "import BioSimSpace.Sandpit.Exscientia as BSS\n",
    "import numpy as np\n",
    "import pandas as pd"
   ]
  },
  {
   "cell_type": "code",
   "execution_count": 2,
   "metadata": {},
   "outputs": [],
   "source": [
    "system = BSS.IO.readMolecules([\"bound/ensemble_equilibration_1/bound_preequil.prm7\",\"bound/ensemble_equilibration_1/bound_preequil.rst7\"])"
   ]
  },
  {
   "cell_type": "code",
   "execution_count": 3,
   "metadata": {},
   "outputs": [
    {
     "data": {
      "text/plain": [
       "[<BioSimSpace.Residue: name='LIG', molecule=35, index=0, nAtoms=97>]"
      ]
     },
     "execution_count": 3,
     "metadata": {},
     "output_type": "execute_result"
    }
   ],
   "source": [
    "system[0].getResidues()"
   ]
  },
  {
   "cell_type": "code",
   "execution_count": 4,
   "metadata": {},
   "outputs": [],
   "source": [
    "lig = BSS.Align.decouple(system[0])\n",
    "system.updateMolecule(0, lig)"
   ]
  },
  {
   "cell_type": "code",
   "execution_count": 5,
   "metadata": {},
   "outputs": [
    {
     "name": "stdout",
     "output_type": "stream",
     "text": [
      "Indexing XTC \u001b[37;42m           \u001b[0m \u001b[35m  6.2 s\u001b[0m \u001b[36m200350976.0 bytes / s\u001b[0m          \n"
     ]
    }
   ],
   "source": [
    "traj = BSS.Trajectory.Trajectory(\n",
    "    trajectory=\"bound/ensemble_equilibration_1/gromacs.xtc\",\n",
    "    topology=\"bound/ensemble_equilibration_1/bound_preequil.prm7\",\n",
    ")"
   ]
  },
  {
   "cell_type": "code",
   "execution_count": 6,
   "metadata": {},
   "outputs": [
    {
     "name": "stderr",
     "output_type": "stream",
     "text": [
      "INFO:MDAnalysis.core.universe:The attribute(s) masses, types have already been read from the topology file. The guesser will only guess empty values for this attribute, if any exists. To overwrite it by completely guessed values, you can pass the attribute to the force_guess parameter instead of the to_guess one\n",
      "INFO:MDAnalysis.guesser.base:There is no empty types values. Guesser did not guess any new values for types attribute\n",
      "INFO:MDAnalysis.guesser.base:There is no empty masses values. Guesser did not guess any new values for masses attribute\n"
     ]
    },
    {
     "data": {
      "application/vnd.jupyter.widget-view+json": {
       "model_id": "73d4e107ecf44012befa689c36f99d9f",
       "version_major": 2,
       "version_minor": 0
      },
      "text/plain": [
       "Searching for low variance pairs. Frame no:   0%|          | 0/2501 [00:00<?, ?it/s]"
      ]
     },
     "metadata": {},
     "output_type": "display_data"
    }
   ],
   "source": [
    "restraint = BSS.FreeEnergy.RestraintSearch.analyse(\n",
    "    work_dir = \"./get_restraints\",\n",
    "    system = system,\n",
    "    traj = traj,\n",
    "    temperature = 298 * BSS.Units.Temperature.kelvin,\n",
    "    method=\"BSS\",\n",
    "    restraint_type = \"multiple_distance\",\n",
    ")"
   ]
  },
  {
   "cell_type": "code",
   "execution_count": 7,
   "metadata": {},
   "outputs": [],
   "source": [
    "restrain_dict=restraint.toString(engine=\"Somd\")"
   ]
  },
  {
   "cell_type": "code",
   "execution_count": 8,
   "metadata": {},
   "outputs": [
    {
     "data": {
      "text/plain": [
       "'distance restraints dictionary = {(310, 16): (5.723181318757772, 20.0, 0.8789965279822596), (288, 17): (8.499300605713174, 20.0, 0.9068467390548669), (3220, 47): (5.981220462458057, 20.0, 0.9659520807721043), (6005, 30): (6.4003822268618515, 20.0, 1.037544469912362), (3232, 52): (6.993210694405135, 20.0, 0.9714423776338137), (4119, 56): (5.615441320752831, 20.0, 1.0305605348746898), (3232, 51): (6.625688095737994, 20.0, 1.0108169702282943), (3194, 6): (8.566333712760866, 20.0, 1.0462714335630512), (3308, 49): (5.514469851754981, 20.0, 1.0493017491540453), (4119, 57): (4.689153301433507, 20.0, 1.08460314960816), (6007, 29): (7.293929536045853, 20.0, 1.1510490072313697), (6078, 12): (5.170602160122064, 20.0, 1.0964475318488285), (6078, 13): (5.136500482291785, 20.0, 1.0758787277476403), (6078, 4): (5.871754677258629, 20.0, 1.1163078358614014), (6078, 7): (6.099899369275629, 20.0, 1.1402187278474702), (6105, 2): (9.134269620261271, 20.0, 1.122487857689837), (6078, 8): (6.828905362799864, 20.0, 1.1345999784065919), (4110, 55): (6.758428800931806, 20.0, 1.1298516406481554), (312, 15): (5.00528801552445, 20.0, 1.1371337451833652), (286, 43): (8.285713315824001, 20.0, 1.156303862730386), (5939, 31): (7.033402318266229, 20.0, 1.1526038369516822), (3230, 5): (5.109734907459495, 20.0, 1.130400824584303), (6078, 9): (6.138707233031948, 20.0, 1.1788948843763443), (5984, 34): (9.943077755675171, 20.0, 1.141273754607429), (6078, 3): (5.530336240785294, 20.0, 1.1863562486851507), (3232, 46): (6.278393647572603, 20.0, 1.1746619522151462), (6091, 32): (7.469846345929226, 20.0, 1.1885519767359503), (4112, 54): (6.969224723552875, 20.0, 1.2237769168287391), (6105, 1): (8.831630725311316, 20.0, 1.2351991722236164), (6078, 10): (5.9826003076976795, 20.0, 1.2162639119350658), (6076, 11): (6.391564624200598, 20.0, 1.229299216638216), (323, 20): (5.185075581382638, 20.0, 1.2213427947577173), (3308, 50): (6.040877652799335, 20.0, 1.246069439060408), (6007, 35): (9.311756733263492, 20.0, 1.288829611139798), (6105, 42): (7.520342833940231, 20.0, 1.251593333588481), (5045, 18): (8.207958627530415, 20.0, 1.3101746608290918), (6093, 36): (7.142534481615332, 20.0, 1.3399907754137246), (6093, 41): (8.19567772946561, 20.0, 1.3560317085515337), (6078, 45): (6.957032831928484, 20.0, 1.4104598281959335), (359, 14): (9.503437177399972, 20.0, 1.4024778167406957), (6148, 19): (9.613459716756854, 20.0, 1.3791934232719072), (5932, 23): (9.606279745493426, 20.0, 1.4104074538313753), (5272, 24): (8.842249165681785, 20.0, 1.4585476273759816), (4256, 44): (9.22973550741646, 20.0, 1.4420298871567088), (340, 21): (7.94812056993992, 20.0, 1.42202065237886), (6105, 33): (6.829576535560166, 20.0, 1.4556132548855025), (4161, 53): (9.33300570143878, 20.0, 1.4751733638257303), (6091, 39): (9.541582352585042, 20.0, 1.5137911679962635), (6152, 58): (10.292709074466805, 20.0, 1.4701714969574518), (5272, 22): (10.788275314974431, 20.0, 1.5439626113108211), (6078, 0): (4.677407154923811, 20.0, 1.5794248602185084), (2316, 40): (9.293366037792174, 20.0, 1.605541614739984), (5041, 37): (9.774330851615558, 20.0, 1.6687775418768496), (6091, 38): (9.334242355237931, 20.0, 1.671042342581707), (321, 25): (7.4700399680064855, 20.0, 1.7266934075717968), (5160, 28): (10.868967828191117, 20.0, 2.816361642138059), (402, 26): (6.483042447141024, 20.0, 2.995961783581537), (402, 27): (5.452914681661368, 20.0, 3.64979714863499)}\\npermanent distance restraints dictionary = {(3196, 48): (8.67743393503548, 20.0, 0.8304281003194642)}'"
      ]
     },
     "execution_count": 8,
     "metadata": {},
     "output_type": "execute_result"
    }
   ],
   "source": [
    "restrain_dict"
   ]
  },
  {
   "cell_type": "code",
   "execution_count": 9,
   "metadata": {},
   "outputs": [
    {
     "name": "stderr",
     "output_type": "stream",
     "text": [
      "/home/yanfz/miniforge3/envs/a3fe/lib/python3.12/site-packages/BioSimSpace/Sandpit/Exscientia/FreeEnergy/_restraint.py:1157: UserWarning: The multiple distance restraint correction is assumes that only the 'permanent_distance_restraint' is active.\n",
      "  _warnings.warn(\n"
     ]
    },
    {
     "data": {
      "text/plain": [
       "0.0698 kcal/mol"
      ]
     },
     "execution_count": 9,
     "metadata": {},
     "output_type": "execute_result"
    }
   ],
   "source": [
    "restraint.getCorrection(method = \"numerical\")"
   ]
  },
  {
   "cell_type": "code",
   "execution_count": 11,
   "metadata": {},
   "outputs": [
    {
     "name": "stderr",
     "output_type": "stream",
     "text": [
      "/home/yanfz/miniforge3/envs/a3fe/lib/python3.12/site-packages/BioSimSpace/Sandpit/Exscientia/FreeEnergy/_alchemical_free_energy.py:370: UserWarning: SOMD simulations with some non-interacting ligands can be unstable. This affects some systems with multiple distance restraints during the release restraint state. If you experience problems, consider using multiple distance restraints with GROMACS instead.\n",
      "  _warnings.warn(\n"
     ]
    }
   ],
   "source": [
    "lam_vals_release_restraint = [0.000, 0.100, 0.200, 0.300, 0.400, 0.500, 0.600, 0.700, 0.800, 0.900, 1.000]\n",
    "\n",
    "\n",
    "release_restraints_protocol = BSS.Protocol.FreeEnergy(runtime=1*BSS.Units.Time.nanosecond, \n",
    "                                                      timestep=4*BSS.Units.Time.femtosecond, \n",
    "                                                      lam_vals=lam_vals_release_restraint, \n",
    "                                                      perturbation_type=\"release_restraint\")\n",
    "\n",
    "release_restraints_fe_calc = BSS.FreeEnergy.AlchemicalFreeEnergy(restraint.system, \n",
    "                                                                 release_restraints_protocol, \n",
    "                                                                 engine='somd', \n",
    "                                                                 restraint=restraint,\n",
    "                                                                 work_dir='./get_restraints/release1')"
   ]
  }
 ],
 "metadata": {
  "kernelspec": {
   "display_name": "a3fe",
   "language": "python",
   "name": "python3"
  },
  "language_info": {
   "codemirror_mode": {
    "name": "ipython",
    "version": 3
   },
   "file_extension": ".py",
   "mimetype": "text/x-python",
   "name": "python",
   "nbconvert_exporter": "python",
   "pygments_lexer": "ipython3",
   "version": "3.12.11"
  }
 },
 "nbformat": 4,
 "nbformat_minor": 2
}
