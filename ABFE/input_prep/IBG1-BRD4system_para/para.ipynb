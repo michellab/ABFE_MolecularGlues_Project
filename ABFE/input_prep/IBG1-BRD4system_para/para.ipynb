{
 "cells": [
  {
   "cell_type": "code",
   "execution_count": null,
   "metadata": {
    "vscode": {
     "languageId": "plaintext"
    }
   },
   "outputs": [],
   "source": [
    "import BioSimSpace as BSS"
   ]
  },
  {
   "cell_type": "code",
   "execution_count": null,
   "metadata": {
    "vscode": {
     "languageId": "plaintext"
    }
   },
   "outputs": [],
   "source": [
    "#paramterise the ligand\n",
    "lig = BSS.IO.readMolecules(\"IBG1.sdf\")[0]\n",
    "lig_param = BSS.Parameters.gaff2(lig).getMolecule()\n",
    "BSS.IO.saveMolecules(\"free_param\", free_param, [\"prm7\", \"rst7\"])\n",
    "ligand =  BSS.IO.readMolecules(['free_param.prm7', 'free_param.rst7'])"
   ]
  },
  {
   "cell_type": "code",
   "execution_count": null,
   "metadata": {
    "vscode": {
     "languageId": "plaintext"
    }
   },
   "outputs": [],
   "source": [
    "protein = BSS.IO.readMolecules([\"prot_param.prm7\",\"prot_param.rst7\"])"
   ]
  },
  {
   "cell_type": "code",
   "execution_count": null,
   "metadata": {
    "vscode": {
     "languageId": "plaintext"
    }
   },
   "outputs": [],
   "source": [
    "bound_sys = ligand + protein\n",
    "free_sys = ligand\n",
    "bound_sys[0].getResidues() #make sure is LIG"
   ]
  },
  {
   "cell_type": "code",
   "execution_count": null,
   "metadata": {
    "vscode": {
     "languageId": "plaintext"
    }
   },
   "outputs": [],
   "source": [
    "BSS.IO.saveMolecules(\"bound_param\", bound_sys, [\"prm7\", \"rst7\"])"
   ]
  }
 ],
 "metadata": {
  "language_info": {
   "name": "python"
  }
 },
 "nbformat": 4,
 "nbformat_minor": 2
}
