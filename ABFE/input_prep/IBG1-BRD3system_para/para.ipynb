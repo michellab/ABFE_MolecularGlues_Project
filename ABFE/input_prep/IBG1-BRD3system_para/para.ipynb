{
 "cells": [
  {
   "cell_type": "code",
   "execution_count": 1,
   "metadata": {},
   "outputs": [
    {
     "data": {
      "application/vnd.jupyter.widget-view+json": {
       "model_id": "9a6e8618ae014679ac77f4366b89c1f8",
       "version_major": 2,
       "version_minor": 0
      },
      "text/plain": []
     },
     "metadata": {},
     "output_type": "display_data"
    },
    {
     "name": "stderr",
     "output_type": "stream",
     "text": [
      "INFO:rdkit:Enabling RDKit 2024.03.5 jupyter extensions\n",
      "INFO:numexpr.utils:Note: NumExpr detected 20 cores but \"NUMEXPR_MAX_THREADS\" not set, so enforcing safe limit of 16.\n",
      "INFO:numexpr.utils:NumExpr defaulting to 16 threads.\n"
     ]
    }
   ],
   "source": [
    "import BioSimSpace as BSS"
   ]
  },
  {
   "cell_type": "code",
   "execution_count": 23,
   "metadata": {},
   "outputs": [
    {
     "data": {
      "text/plain": [
       "['/home/yanfz/lig_param.prm7', '/home/yanfz/lig_param.rst7']"
      ]
     },
     "execution_count": 23,
     "metadata": {},
     "output_type": "execute_result"
    }
   ],
   "source": [
    "lig = BSS.IO.readMolecules(\"IBG1.sdf\")[0]\n",
    "lig_param = BSS.Parameters.gaff2(lig).getMolecule()\n",
    "BSS.IO.saveMolecules(\"free_param\", lig_param, [\"prm7\", \"rst7\"])\n",
    "ligand =  BSS.IO.readMolecules(['free_param.prm7', 'free_param.rst7'])"
   ]
  },
  {
   "cell_type": "code",
   "execution_count": 4,
   "metadata": {},
   "outputs": [],
   "source": [
    "ligand =  BSS.IO.readMolecules(['free_param.prm7', 'free_param.rst7'])\n"
   ]
  },
  {
   "cell_type": "code",
   "execution_count": 2,
   "metadata": {},
   "outputs": [],
   "source": [
    "BRD3 =  BSS.IO.readMolecules(['BRD3_param.prm7', 'BRD3_param.rst7'])\n"
   ]
  },
  {
   "cell_type": "code",
   "execution_count": 10,
   "metadata": {},
   "outputs": [
    {
     "data": {
      "text/plain": [
       "['/home/yanfz/free_param.prm7', '/home/yanfz/free_param.rst7']"
      ]
     },
     "execution_count": 10,
     "metadata": {},
     "output_type": "execute_result"
    }
   ],
   "source": [
    "bound_sys = ligand + BRD3\n",
    "free_sys = ligand\n",
    "BSS.IO.saveMolecules(\"bound_param\", bound_sys, [\"prm7\", \"rst7\"])\n",
    "BSS.IO.saveMolecules(\"free_param\", free_sys, [\"prm7\", \"rst7\"])"
   ]
  }
 ],
 "metadata": {
  "kernelspec": {
   "display_name": "openbiosim",
   "language": "python",
   "name": "python3"
  },
  "language_info": {
   "codemirror_mode": {
    "name": "ipython",
    "version": 3
   },
   "file_extension": ".py",
   "mimetype": "text/x-python",
   "name": "python",
   "nbconvert_exporter": "python",
   "pygments_lexer": "ipython3",
   "version": "3.10.13"
  }
 },
 "nbformat": 4,
 "nbformat_minor": 2
}
